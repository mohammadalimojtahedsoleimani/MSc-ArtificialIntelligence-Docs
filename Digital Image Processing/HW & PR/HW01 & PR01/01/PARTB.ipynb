{
 "cells": [
  {
   "cell_type": "code",
   "execution_count": 1,
   "id": "ca4ffec9",
   "metadata": {},
   "outputs": [],
   "source": [
    "import cv2\n",
    "import numpy as np\n",
    "import matplotlib.pyplot as plt"
   ]
  },
  {
   "cell_type": "code",
   "execution_count": null,
   "id": "412aa02d",
   "metadata": {},
   "outputs": [],
   "source": [
    "def segment_skin_hsv(image_path):\n",
    "\n",
    "    original_image = cv2.imread(image_path)\n",
    "    if original_image is None:\n",
    "        print(f\"Error: Could not load image from {image_path}\")\n",
    "        return None\n",
    "\n",
    "    hsv_image = cv2.cvtColor(original_image, cv2.COLOR_BGR2HSV)\n",
    "\n",
    "    lower_skin = np.array([0, 48, 50], dtype=np.uint8) \n",
    "    upper_skin = np.array([25, 255, 255], dtype=np.uint8) \n",
    "\n",
    "    skin_mask = cv2.inRange(hsv_image, lower_skin, upper_skin)\n",
    "\n",
    "    kernel = cv2.getStructuringElement(cv2.MORPH_ELLIPSE, (5, 5))\n",
    "    skin_mask = cv2.morphologyEx(skin_mask, cv2.MORPH_OPEN, kernel) \n",
    "    skin_mask = cv2.morphologyEx(skin_mask, cv2.MORPH_CLOSE, kernel) \n",
    "\n",
    "\n",
    "    segmented_skin_image = cv2.bitwise_and(original_image, original_image, mask=skin_mask)\n",
    "\n",
    "    return original_image, skin_mask, segmented_skin_image"
   ]
  },
  {
   "cell_type": "code",
   "execution_count": null,
   "id": "52bc6d95",
   "metadata": {},
   "outputs": [],
   "source": [
    "image_file = 'C:/Users/Lenovo/Desktop/lena.png'\n",
    "\n",
    "result = segment_skin_hsv(image_file)\n",
    "\n",
    "if result:\n",
    "    original, mask, segmented = result\n",
    "\n",
    "    \n",
    "    plt.figure(figsize=(15, 5))\n",
    "\n",
    "    plt.subplot(1, 3, 1)\n",
    "    plt.imshow(cv2.cvtColor(original, cv2.COLOR_BGR2RGB))\n",
    "    plt.title('Original Image')\n",
    "    plt.axis('off')\n",
    "\n",
    "    plt.subplot(1, 3, 2)\n",
    "    plt.imshow(mask, cmap='gray')\n",
    "    plt.title('Skin Mask')\n",
    "    plt.axis('off')\n",
    "\n",
    "    plt.subplot(1, 3, 3)\n",
    "    plt.imshow(cv2.cvtColor(segmented, cv2.COLOR_BGR2RGB))\n",
    "    plt.title('Segmented Skin')\n",
    "    plt.axis('off')\n",
    "\n",
    "    plt.tight_layout()\n",
    "    plt.show()"
   ]
  },
  {
   "cell_type": "code",
   "execution_count": null,
   "id": "28e4cd61",
   "metadata": {},
   "outputs": [],
   "source": []
  }
 ],
 "metadata": {
  "kernelspec": {
   "display_name": "Python 3",
   "language": "python",
   "name": "python3"
  },
  "language_info": {
   "codemirror_mode": {
    "name": "ipython",
    "version": 3
   },
   "file_extension": ".py",
   "mimetype": "text/x-python",
   "name": "python",
   "nbconvert_exporter": "python",
   "pygments_lexer": "ipython3",
   "version": "3.11.8"
  }
 },
 "nbformat": 4,
 "nbformat_minor": 5
}
