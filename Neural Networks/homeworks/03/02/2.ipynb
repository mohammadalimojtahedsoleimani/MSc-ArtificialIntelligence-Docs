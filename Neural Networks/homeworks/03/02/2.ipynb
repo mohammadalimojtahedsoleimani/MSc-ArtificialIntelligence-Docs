{
 "cells": [
  {
   "cell_type": "markdown",
   "metadata": {},
   "source": [
    "# Mohammad ALI Mojtahed Soleimani"
   ]
  },
  {
   "cell_type": "code",
   "execution_count": 16,
   "metadata": {},
   "outputs": [],
   "source": [
    "import torch\n",
    "import torch.nn as nn\n",
    "import torch.optim as optim\n",
    "from torch.utils.data import DataLoader, Subset\n",
    "from torchvision import datasets, transforms\n",
    "import matplotlib.pyplot as plt\n",
    "import numpy as np\n",
    "import random"
   ]
  },
  {
   "cell_type": "markdown",
   "metadata": {},
   "source": []
  },
  {
   "cell_type": "code",
   "execution_count": 17,
   "metadata": {},
   "outputs": [],
   "source": [
    "class SimpleCNN(nn.Module):\n",
    "    def __init__(self, l1_lambda=0, l2_lambda=0, dropout_rate=0):\n",
    "        super(SimpleCNN, self).__init__()\n",
    "        self.l1_lambda = l1_lambda\n",
    "        self.l2_lambda = l2_lambda\n",
    "        self.conv1 = nn.Conv2d(3, 16, kernel_size=5, padding=2)\n",
    "        self.relu1 = nn.ReLU()\n",
    "        self.pool1 = nn.MaxPool2d(2, 2)\n",
    "        self.dropout1 = nn.Dropout(dropout_rate)\n",
    "        self.conv2 = nn.Conv2d(16, 32, kernel_size=5, padding=2)\n",
    "        self.relu2 = nn.ReLU()\n",
    "        self.pool2 = nn.MaxPool2d(2, 2)\n",
    "        self.dropout2 = nn.Dropout(dropout_rate)\n",
    "        self.fc1 = nn.Linear(32 * 56 * 56, 128)  # Assuming input size of 224x224\n",
    "        self.relu3 = nn.ReLU()\n",
    "        self.dropout3 = nn.Dropout(dropout_rate)\n",
    "        self.fc2 = nn.Linear(128, 102)  # Caltech-101 has 101 categories + background\n",
    "\n",
    "    def forward(self, x):\n",
    "        x = self.pool1(self.relu1(self.conv1(x)))\n",
    "        x = self.dropout1(x)\n",
    "        x = self.pool2(self.relu2(self.conv2(x)))\n",
    "        x = self.dropout2(x)\n",
    "        x = x.view(-1, 32 * 56 * 56)\n",
    "        x = self.relu3(self.fc1(x))\n",
    "        x = self.dropout3(x)\n",
    "        x = self.fc2(x)\n",
    "        return x\n",
    "\n",
    "    def l1_regularization_loss(self):\n",
    "        l1_loss = 0\n",
    "        for param in self.parameters():\n",
    "            l1_loss += torch.norm(param, 1)\n",
    "        return self.l1_lambda * l1_loss\n",
    "\n",
    "    def l2_regularization_loss(self):\n",
    "        l2_loss = 0\n",
    "        for param in self.parameters():\n",
    "            l2_loss += torch.norm(param, 2)\n",
    "        return self.l2_lambda * l2_loss"
   ]
  },
  {
   "cell_type": "markdown",
   "metadata": {},
   "source": []
  },
  {
   "cell_type": "code",
   "execution_count": 18,
   "metadata": {},
   "outputs": [],
   "source": [
    "data_transform = transforms.Compose([\n",
    "    transforms.Resize((224, 224)),\n",
    "    transforms.Grayscale(num_output_channels=3),\n",
    "    transforms.ToTensor(),\n",
    "    transforms.Normalize(mean=[0.485, 0.456, 0.406], std=[0.229, 0.224, 0.225])\n",
    "])"
   ]
  },
  {
   "cell_type": "markdown",
   "metadata": {},
   "source": []
  },
  {
   "cell_type": "code",
   "execution_count": 19,
   "metadata": {},
   "outputs": [
    {
     "name": "stdout",
     "output_type": "stream",
     "text": [
      "Files already downloaded and verified\n"
     ]
    }
   ],
   "source": [
    "try:\n",
    "    full_dataset = datasets.Caltech101(root='./data', download=True, transform=data_transform)\n",
    "except RuntimeError as e:\n",
    "    if \"HTTP Error 503: Service Unavailable\" in str(e):\n",
    "        print(\"Error: Caltech-101 server might be unavailable. Try again later or use a different dataset.\")\n",
    "        exit()"
   ]
  },
  {
   "cell_type": "markdown",
   "metadata": {},
   "source": []
  },
  {
   "cell_type": "code",
   "execution_count": 20,
   "metadata": {},
   "outputs": [],
   "source": [
    "train_size = int(0.8 * len(full_dataset))\n",
    "val_size = int(0.1 * len(full_dataset))\n",
    "test_size = len(full_dataset) - train_size - val_size\n",
    "\n",
    "train_dataset, val_dataset, test_dataset = torch.utils.data.random_split(full_dataset, [train_size, val_size, test_size])"
   ]
  },
  {
   "cell_type": "markdown",
   "metadata": {},
   "source": []
  },
  {
   "cell_type": "code",
   "execution_count": 21,
   "metadata": {},
   "outputs": [],
   "source": [
    "train_loader = DataLoader(train_dataset, batch_size=32, shuffle=True)\n",
    "val_loader = DataLoader(val_dataset, batch_size=32, shuffle=False)\n",
    "test_loader = DataLoader(test_dataset, batch_size=32, shuffle=False)"
   ]
  },
  {
   "cell_type": "markdown",
   "metadata": {},
   "source": []
  },
  {
   "cell_type": "code",
   "execution_count": 22,
   "metadata": {},
   "outputs": [],
   "source": [
    "def train_and_evaluate(model, train_loader, val_loader, test_loader, num_epochs=10):\n",
    "    criterion = nn.CrossEntropyLoss()\n",
    "    optimizer = optim.Adam(model.parameters(), lr=0.001)\n",
    "\n",
    "    train_losses = []\n",
    "    val_losses = []\n",
    "    train_accuracies = []\n",
    "    val_accuracies = []\n",
    "\n",
    "    for epoch in range(num_epochs):\n",
    "        # Training phase\n",
    "        model.train()\n",
    "        running_loss = 0.0\n",
    "        correct_train = 0\n",
    "        total_train = 0\n",
    "\n",
    "        for i, (images, labels) in enumerate(train_loader):\n",
    "            optimizer.zero_grad()\n",
    "            outputs = model(images)\n",
    "            loss = criterion(outputs, labels)\n",
    "\n",
    "            # Add L1 and/or L2 regularization loss if applicable\n",
    "            if model.l1_lambda > 0:\n",
    "                loss += model.l1_regularization_loss()\n",
    "            if model.l2_lambda > 0:\n",
    "                loss += model.l2_regularization_loss()\n",
    "\n",
    "            loss.backward()\n",
    "            optimizer.step()\n",
    "\n",
    "            running_loss += loss.item()\n",
    "            _, predicted = torch.max(outputs.data, 1)\n",
    "            total_train += labels.size(0)\n",
    "            correct_train += (predicted == labels).sum().item()\n",
    "\n",
    "        train_loss = running_loss / len(train_loader)\n",
    "        train_accuracy = 100 * correct_train / total_train\n",
    "        train_losses.append(train_loss)\n",
    "        train_accuracies.append(train_accuracy)\n",
    "\n",
    "        # Validation phase\n",
    "        model.eval()\n",
    "        running_loss = 0.0\n",
    "        correct_val = 0\n",
    "        total_val = 0\n",
    "\n",
    "        with torch.no_grad():\n",
    "            for images, labels in val_loader:\n",
    "                outputs = model(images)\n",
    "                loss = criterion(outputs, labels)\n",
    "\n",
    "                # Add L1 and/or L2 regularization loss if applicable\n",
    "                if model.l1_lambda > 0:\n",
    "                    loss += model.l1_regularization_loss()\n",
    "                if model.l2_lambda > 0:\n",
    "                    loss += model.l2_regularization_loss()\n",
    "\n",
    "                running_loss += loss.item()\n",
    "                _, predicted = torch.max(outputs.data, 1)\n",
    "                total_val += labels.size(0)\n",
    "                correct_val += (predicted == labels).sum().item()\n",
    "\n",
    "        val_loss = running_loss / len(val_loader)\n",
    "        val_accuracy = 100 * correct_val / total_val\n",
    "        val_losses.append(val_loss)\n",
    "        val_accuracies.append(val_accuracy)\n",
    "\n",
    "        print(f'Epoch [{epoch+1}/{num_epochs}], '\n",
    "              f'Train Loss: {train_loss:.4f}, Train Acc: {train_accuracy:.2f}%, '\n",
    "              f'Val Loss: {val_loss:.4f}, Val Acc: {val_accuracy:.2f}%')\n",
    "\n",
    "    # --- Testing ---\n",
    "    model.eval()\n",
    "    correct_test = 0\n",
    "    total_test = 0\n",
    "    with torch.no_grad():\n",
    "        for images, labels in test_loader:\n",
    "            outputs = model(images)\n",
    "            _, predicted = torch.max(outputs.data, 1)\n",
    "            total_test += labels.size(0)\n",
    "            correct_test += (predicted == labels).sum().item()\n",
    "\n",
    "    test_accuracy = 100 * correct_test / total_test\n",
    "    print(f'Test Accuracy: {test_accuracy:.2f}%')\n",
    "\n",
    "    return train_losses, val_losses, train_accuracies, val_accuracies, test_accuracy"
   ]
  },
  {
   "cell_type": "markdown",
   "metadata": {},
   "source": []
  },
  {
   "cell_type": "code",
   "execution_count": 23,
   "metadata": {},
   "outputs": [],
   "source": [
    "num_epochs = 10  # You might need more epochs when using the full dataset\n",
    "results = {}"
   ]
  },
  {
   "cell_type": "markdown",
   "metadata": {},
   "source": []
  },
  {
   "cell_type": "code",
   "execution_count": 24,
   "metadata": {},
   "outputs": [
    {
     "name": "stdout",
     "output_type": "stream",
     "text": [
      "Training without regularization:\n",
      "Epoch [1/10], Train Loss: 3.7391, Train Acc: 27.73%, Val Loss: 3.0009, Val Acc: 38.41%\n",
      "Epoch [2/10], Train Loss: 2.4678, Train Acc: 45.27%, Val Loss: 2.5698, Val Acc: 45.21%\n",
      "Epoch [3/10], Train Loss: 1.4692, Train Acc: 63.87%, Val Loss: 2.7101, Val Acc: 45.10%\n",
      "Epoch [4/10], Train Loss: 0.5760, Train Acc: 84.89%, Val Loss: 3.4883, Val Acc: 45.33%\n",
      "Epoch [5/10], Train Loss: 0.1690, Train Acc: 95.76%, Val Loss: 4.8598, Val Acc: 43.94%\n",
      "Epoch [6/10], Train Loss: 0.0735, Train Acc: 98.14%, Val Loss: 4.9386, Val Acc: 45.79%\n",
      "Epoch [7/10], Train Loss: 0.0726, Train Acc: 98.21%, Val Loss: 5.5830, Val Acc: 43.83%\n",
      "Epoch [8/10], Train Loss: 0.1079, Train Acc: 97.77%, Val Loss: 5.9090, Val Acc: 44.29%\n",
      "Epoch [9/10], Train Loss: 0.0526, Train Acc: 98.80%, Val Loss: 6.0702, Val Acc: 44.98%\n",
      "Epoch [10/10], Train Loss: 0.0182, Train Acc: 99.57%, Val Loss: 5.9613, Val Acc: 45.79%\n",
      "Test Accuracy: 45.45%\n"
     ]
    }
   ],
   "source": [
    "# 1. No Regularization\n",
    "print(\"Training without regularization:\")\n",
    "model_no_reg = SimpleCNN()\n",
    "train_losses, val_losses, train_accuracies, val_accuracies, test_accuracy = train_and_evaluate(model_no_reg, train_loader, val_loader, test_loader, num_epochs)\n",
    "results['No Regularization'] = (train_losses, val_losses, train_accuracies, val_accuracies, test_accuracy)"
   ]
  },
  {
   "cell_type": "markdown",
   "metadata": {},
   "source": []
  },
  {
   "cell_type": "code",
   "execution_count": 27,
   "metadata": {},
   "outputs": [],
   "source": [
    "device = torch.device(\"cuda\" if torch.cuda.is_available() else \"cpu\")"
   ]
  },
  {
   "cell_type": "code",
   "execution_count": 28,
   "metadata": {},
   "outputs": [
    {
     "name": "stdout",
     "output_type": "stream",
     "text": [
      "\n",
      "Training with L1 Regularization:\n",
      "Epoch [1/10], Train Loss: 7.2310, Train Acc: 18.71%, Val Loss: 6.1218, Val Acc: 24.80%\n",
      "Epoch [2/10], Train Loss: 5.9719, Train Acc: 26.75%, Val Loss: 5.9867, Val Acc: 29.64%\n",
      "Epoch [3/10], Train Loss: 5.9058, Train Acc: 32.70%, Val Loss: 5.9388, Val Acc: 35.64%\n",
      "Epoch [4/10], Train Loss: 5.7651, Train Acc: 37.49%, Val Loss: 5.8469, Val Acc: 37.37%\n",
      "Epoch [5/10], Train Loss: 5.6699, Train Acc: 41.06%, Val Loss: 5.7547, Val Acc: 40.25%\n",
      "Epoch [6/10], Train Loss: 5.4151, Train Acc: 44.78%, Val Loss: 5.5863, Val Acc: 39.45%\n",
      "Epoch [7/10], Train Loss: 5.3745, Train Acc: 46.69%, Val Loss: 5.6776, Val Acc: 41.29%\n",
      "Epoch [8/10], Train Loss: 5.1749, Train Acc: 49.63%, Val Loss: 5.6088, Val Acc: 44.18%\n",
      "Epoch [9/10], Train Loss: 5.0297, Train Acc: 51.52%, Val Loss: 5.5357, Val Acc: 43.60%\n",
      "Epoch [10/10], Train Loss: 4.9769, Train Acc: 53.75%, Val Loss: 5.6582, Val Acc: 40.72%\n",
      "Test Accuracy: 43.50%\n"
     ]
    }
   ],
   "source": [
    "# 2. L1 Regularization\n",
    "print(\"\\nTraining with L1 Regularization:\")\n",
    "model_l1 = SimpleCNN(l1_lambda=0.001).to(device)\n",
    "train_losses, val_losses, train_accuracies, val_accuracies, test_accuracy = train_and_evaluate(model_l1, train_loader, val_loader, test_loader, num_epochs)\n",
    "results['L1 Regularization'] = (train_losses, val_losses, train_accuracies, val_accuracies, test_accuracy)"
   ]
  },
  {
   "cell_type": "markdown",
   "metadata": {},
   "source": []
  },
  {
   "cell_type": "code",
   "execution_count": null,
   "metadata": {},
   "outputs": [],
   "source": [
    "# 3. L2 Regularization\n",
    "print(\"\\nTraining with L2 Regularization:\")\n",
    "model_l2 = SimpleCNN(l2_lambda=0.001).to(device)\n",
    "train_losses, val_losses, train_accuracies, val_accuracies, test_accuracy = train_and_evaluate(model_l2, train_loader, val_loader, test_loader, num_epochs)\n",
    "results['L2 Regularization'] = (train_losses, val_losses, train_accuracies, val_accuracies, test_accuracy)"
   ]
  },
  {
   "cell_type": "markdown",
   "metadata": {},
   "source": []
  },
  {
   "cell_type": "code",
   "execution_count": null,
   "metadata": {},
   "outputs": [],
   "source": [
    "# 4. Dropout\n",
    "print(\"\\nTraining with Dropout:\")\n",
    "model_dropout = SimpleCNN(dropout_rate=0.5).to(device)\n",
    "train_losses, val_losses, train_accuracies, val_accuracies, test_accuracy = train_and_evaluate(model_dropout, train_loader, val_loader, test_loader, num_epochs)\n",
    "results['Dropout'] = (train_losses, val_losses, train_accuracies, val_accuracies, test_accuracy)"
   ]
  },
  {
   "cell_type": "markdown",
   "metadata": {},
   "source": []
  },
  {
   "cell_type": "code",
   "execution_count": 15,
   "metadata": {},
   "outputs": [
    {
     "ename": "NameError",
     "evalue": "name 'results' is not defined",
     "output_type": "error",
     "traceback": [
      "\u001b[1;31m---------------------------------------------------------------------------\u001b[0m",
      "\u001b[1;31mNameError\u001b[0m                                 Traceback (most recent call last)",
      "Cell \u001b[1;32mIn[15], line 4\u001b[0m\n\u001b[0;32m      1\u001b[0m plt\u001b[38;5;241m.\u001b[39mfigure(figsize\u001b[38;5;241m=\u001b[39m(\u001b[38;5;241m12\u001b[39m, \u001b[38;5;241m8\u001b[39m))\n\u001b[0;32m      3\u001b[0m plt\u001b[38;5;241m.\u001b[39msubplot(\u001b[38;5;241m2\u001b[39m, \u001b[38;5;241m1\u001b[39m, \u001b[38;5;241m1\u001b[39m)\n\u001b[1;32m----> 4\u001b[0m \u001b[38;5;28;01mfor\u001b[39;00m name, (train_losses, val_losses, _, _, _) \u001b[38;5;129;01min\u001b[39;00m \u001b[43mresults\u001b[49m\u001b[38;5;241m.\u001b[39mitems():\n\u001b[0;32m      5\u001b[0m     plt\u001b[38;5;241m.\u001b[39mplot(train_losses, label\u001b[38;5;241m=\u001b[39m\u001b[38;5;124mf\u001b[39m\u001b[38;5;124m'\u001b[39m\u001b[38;5;132;01m{\u001b[39;00mname\u001b[38;5;132;01m}\u001b[39;00m\u001b[38;5;124m - Train Loss\u001b[39m\u001b[38;5;124m'\u001b[39m)\n\u001b[0;32m      6\u001b[0m     plt\u001b[38;5;241m.\u001b[39mplot(val_losses, label\u001b[38;5;241m=\u001b[39m\u001b[38;5;124mf\u001b[39m\u001b[38;5;124m'\u001b[39m\u001b[38;5;132;01m{\u001b[39;00mname\u001b[38;5;132;01m}\u001b[39;00m\u001b[38;5;124m - Val Loss\u001b[39m\u001b[38;5;124m'\u001b[39m)\n",
      "\u001b[1;31mNameError\u001b[0m: name 'results' is not defined"
     ]
    },
    {
     "data": {
      "image/png": "[encoded data removed]",
      "text/plain": [
       "<Figure size 1200x800 with 1 Axes>"
      ]
     },
     "metadata": {},
     "output_type": "display_data"
    }
   ],
   "source": [
    "plt.figure(figsize=(12, 8))\n",
    "\n",
    "plt.subplot(2, 1, 1)\n",
    "for name, (train_losses, val_losses, _, _, _) in results.items():\n",
    "    plt.plot(train_losses, label=f'{name} - Train Loss')\n",
    "    plt.plot(val_losses, label=f'{name} - Val Loss')\n",
    "plt.xlabel('Epoch')\n",
    "plt.ylabel('Loss')\n",
    "plt.title('Loss vs. Epoch for Different Regularization Methods')\n",
    "plt.legend()\n"
   ]
  },
  {
   "cell_type": "markdown",
   "metadata": {},
   "source": []
  },
  {
   "cell_type": "code",
   "execution_count": null,
   "metadata": {},
   "outputs": [],
   "source": [
    "plt.subplot(2, 1, 2)\n",
    "for name, (_, _, train_accuracies, val_accuracies, _) in results.items():\n",
    "    plt.plot(train_accuracies, label=f'{name} - Train Acc')\n",
    "    plt.plot(val_accuracies, label=f'{name} - Val Acc')\n",
    "plt.xlabel('Epoch')\n",
    "plt.ylabel('Accuracy (%)')\n",
    "plt.title('Accuracy vs. Epoch for Different Regularization Methods')\n",
    "plt.legend()\n",
    "\n",
    "plt.tight_layout()\n",
    "plt.show()"
   ]
  },
  {
   "cell_type": "markdown",
   "metadata": {},
   "source": []
  },
  {
   "cell_type": "code",
   "execution_count": null,
   "metadata": {},
   "outputs": [],
   "source": [
    "print(\"\\nTest Accuracies:\")\n",
    "for name, (_, _, _, _, test_accuracy) in results.items():\n",
    "    print(f\"{name}: {test_accuracy:.2f}%\")"
   ]
  }
 ],
 "metadata": {
  "kernelspec": {
   "display_name": "Python 3",
   "language": "python",
   "name": "python3"
  },
  "language_info": {
   "codemirror_mode": {
    "name": "ipython",
    "version": 3
   },
   "file_extension": ".py",
   "mimetype": "text/x-python",
   "name": "python",
   "nbconvert_exporter": "python",
   "pygments_lexer": "ipython3",
   "version": "3.11.8"
  }
 },
 "nbformat": 4,
 "nbformat_minor": 2
}
